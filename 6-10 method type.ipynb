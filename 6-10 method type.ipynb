{
 "cells": [
  {
   "cell_type": "markdown",
   "metadata": {},
   "source": [
    "##  메소드 타입\n",
    "** 어떤 데이터(속성)와 함수(메소드)는 클래스 자신의 일부이며, 어떤 것은 클래스로부터 생성된 객체의 일부  **<br>\n",
    "** 클래스 정의에서 메서드의 첫 번째 인자가 self라면 이 메소드는 instance method(파이썬에서 클래스 생성시 기본 타입) **<br>\n",
    "** 이와 반대로 class method는 클래스 전체에 영향을 미침 **<br>"
   ]
  },
  {
   "cell_type": "code",
   "execution_count": 1,
   "metadata": {
    "collapsed": false
   },
   "outputs": [
    {
     "name": "stdout",
     "output_type": "stream",
     "text": [
      "A has 3 little objects\n"
     ]
    }
   ],
   "source": [
    "class A():\n",
    "    count = 0\n",
    "    def __init__(self):\n",
    "        A.count += 1\n",
    "    def exclaim(self):\n",
    "        print(\"I'm an A!\")\n",
    "    @classmethod\n",
    "    def kids(cls):\n",
    "        print(\"A has\", cls.count, \"little objects\")\n",
    "        \n",
    "easy_a = A()\n",
    "breezy_a = A()\n",
    "wheezy_a = A()\n",
    "A.kids()"
   ]
  },
  {
   "cell_type": "markdown",
   "metadata": {},
   "source": [
    "** self.count(객체 인스턴스 속성)를 참조하기보다 A.count(클래스 속성)를 참조했다. **<br>\n",
    "** _kids()_ 메소드에서 A.count를 사용할 수 있었지만 cls.count를 사용했다. **"
   ]
  },
  {
   "cell_type": "markdown",
   "metadata": {},
   "source": [
    "** 클래스 정의에서 메서드의 세 번째 타입은 클래스나 객체에 영향을 미치지 못함 **<br>\n",
    "** 편의를 위해서 존재하는데, _정적 메소드_는 @staticmethod 데코레이터가 붙어있고, 첫 번째 매개 변수로 _self_나 _cls_가 없다 **<br>"
   ]
  },
  {
   "cell_type": "code",
   "execution_count": 3,
   "metadata": {
    "collapsed": false
   },
   "outputs": [
    {
     "name": "stdout",
     "output_type": "stream",
     "text": [
      "This is Rose quartz's last weapon.\n"
     ]
    }
   ],
   "source": [
    "class RosesWeapon():\n",
    "    @staticmethod\n",
    "    def commercial():\n",
    "        print(\"This is Rose quartz's last weapon.\")\n",
    "        \n",
    "RosesWeapon.commercial()"
   ]
  }
 ],
 "metadata": {
  "kernelspec": {
   "display_name": "Python 3",
   "language": "python",
   "name": "python3"
  },
  "language_info": {
   "codemirror_mode": {
    "name": "ipython",
    "version": 3
   },
   "file_extension": ".py",
   "mimetype": "text/x-python",
   "name": "python",
   "nbconvert_exporter": "python",
   "pygments_lexer": "ipython3",
   "version": "3.6.0"
  }
 },
 "nbformat": 4,
 "nbformat_minor": 2
}
