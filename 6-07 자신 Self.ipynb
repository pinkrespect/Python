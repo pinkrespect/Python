{
 "cells": [
  {
   "cell_type": "markdown",
   "metadata": {},
   "source": [
    "## 자신: Self"
   ]
  },
  {
   "cell_type": "code",
   "execution_count": 1,
   "metadata": {
    "collapsed": false
   },
   "outputs": [
    {
     "name": "stdout",
     "output_type": "stream",
     "text": [
      "I'm a Car!\n"
     ]
    }
   ],
   "source": [
    "class Car():\n",
    "    def exclaim(self):\n",
    "        print(\"I'm a Car!\")\n",
    "        \n",
    "class Yugo(Car):\n",
    "    def exclaim(self):\n",
    "        print(\"I'm a Yugo! Much like a Car, but more Yugo-ish.\")\n",
    "    def need_a_push(self):\n",
    "        print(\"A little help here?\")\n",
    "        \n",
    "car = Car()\n",
    "car.exclaim()"
   ]
  },
  {
   "cell_type": "markdown",
   "metadata": {},
   "source": [
    "** 여기서 파이썬이 처리하는 일 ** <br>\n",
    "- car 객체의 Car 클래스를 찾는다.\n",
    "- car 객체를 Car 클래스의 exclaim() 메소드의 self 매개 변수에 전달한다."
   ]
  },
  {
   "cell_type": "code",
   "execution_count": 2,
   "metadata": {
    "collapsed": false
   },
   "outputs": [
    {
     "name": "stdout",
     "output_type": "stream",
     "text": [
      "I'm a Car!\n"
     ]
    }
   ],
   "source": [
    "Car.exclaim(car)"
   ]
  }
 ],
 "metadata": {
  "kernelspec": {
   "display_name": "Python 3",
   "language": "python",
   "name": "python3"
  },
  "language_info": {
   "codemirror_mode": {
    "name": "ipython",
    "version": 3
   },
   "file_extension": ".py",
   "mimetype": "text/x-python",
   "name": "python",
   "nbconvert_exporter": "python",
   "pygments_lexer": "ipython3",
   "version": "3.6.0"
  }
 },
 "nbformat": 4,
 "nbformat_minor": 2
}
