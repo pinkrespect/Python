{
 "cells": [
  {
   "cell_type": "markdown",
   "metadata": {},
   "source": [
    "## 클래스와 객체, 그리고 모듈은 언제 사용할까?\n",
    "- 비슷한 행동(메소드)을 하지만 내부 상태(속성)가 다른 개별 인스턴스가 필요할 때, 객체 사용\n",
    "- 클래스는 상속을 지원하지만, 모듈은 상속을 지원하지 않는다.\n",
    "- 어떤 한 가지 일만 수행한다면 모듈이 가장 좋은 선택이다. 프로그램에서 파이썬 모듈이 참조된 횟수에 상관 없이 단 하나의 복사본만 불러온다.(자바, C++의 Singleton)\n",
    "- 여러 함수에 인자로 전달될 수 있는 여러 값을 포함한 여러 변수가 있다면, 클래스를 정의하는 것이 좋다.\n",
    "- 가장 간단한 문제 해결 방법을 사용한다. 모듈은 클래스보다 더 간단하고, 딕셔너리, 리스트, 튜플은 모듈보다 더 작고 간단하며 빠르다."
   ]
  },
  {
   "cell_type": "markdown",
   "metadata": {},
   "source": [
    "### 네임드 튜플\n",
    "** 네임드 튜플은 튜플의 서브클래스다. 이름(_.name_)과 위치(_[offset]_)으로 접근할 수 있다.**"
   ]
  },
  {
   "cell_type": "code",
   "execution_count": 4,
   "metadata": {
    "collapsed": false
   },
   "outputs": [
    {
     "name": "stdout",
     "output_type": "stream",
     "text": [
      "Duck(bill='wide orange', tail='long')\n",
      "wide orange\n",
      "long\n"
     ]
    }
   ],
   "source": [
    "# 이전 절의 예제를 활용하여\n",
    "# bill, tail을 간단한 문자열 속성으로 변환하고, 두 인자를 취하는 namedtuple 함수를 호출한다.\n",
    "# - 이름\n",
    "# - 스페이스로 구분된 필드 이름의 문자열\n",
    "\n",
    "from collections import namedtuple\n",
    "\n",
    "Duck = namedtuple('Duck', 'bill tail')\n",
    "duck = Duck('wide orange', 'long')\n",
    "\n",
    "print(duck)\n",
    "print(duck.bill)\n",
    "print(duck.tail)"
   ]
  },
  {
   "cell_type": "markdown",
   "metadata": {},
   "source": [
    "** 또한 딕셔너리에서 네임드 튜플을 만들 수 있다.**"
   ]
  },
  {
   "cell_type": "code",
   "execution_count": 5,
   "metadata": {
    "collapsed": false
   },
   "outputs": [
    {
     "name": "stdout",
     "output_type": "stream",
     "text": [
      "Duck(bill='wide orange', tail='long')\n"
     ]
    }
   ],
   "source": [
    "parts = {'bill': 'wide orange', 'tail': 'long'}\n",
    "duck2 = Duck(**parts)\n",
    "\n",
    "print(duck2)"
   ]
  },
  {
   "cell_type": "markdown",
   "metadata": {},
   "source": [
    "**parts는 키워드 인자(keyword argument)다. parts 딕셔너리에서 키와 값을 추춘 한 후, _Duck()_의 인자로 제공한다. **<p>\n",
    "**네임드 튜플의 특성**\n",
    "- 불변하는 객체처럼 행동한다.\n",
    "- 객체보다 공간 효율성과 시간 효율성이 더 좋다.\n",
    "- 딕셔너리 형식의 괄호([]) 대신, 점(.) 표기법으로 속성을 접근할 수 있다.\n",
    "- 네임드 튜플을 딕셔너리의 키처럼 쓸 수 있다."
   ]
  }
 ],
 "metadata": {
  "kernelspec": {
   "display_name": "Python 3",
   "language": "python",
   "name": "python3"
  },
  "language_info": {
   "codemirror_mode": {
    "name": "ipython",
    "version": 3
   },
   "file_extension": ".py",
   "mimetype": "text/x-python",
   "name": "python",
   "nbconvert_exporter": "python",
   "pygments_lexer": "ipython3",
   "version": "3.6.0"
  }
 },
 "nbformat": 4,
 "nbformat_minor": 2
}
