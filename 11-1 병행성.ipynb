{
 "cells": [
  {
   "cell_type": "markdown",
   "metadata": {},
   "source": [
    "## 병행성 Concurrency\n",
    "** 왜 병행성을? **\n",
    "- 성능(perfomance): 느린 요소(Component)를 기다리지 않고, 빠른 요소를 바쁘게 유지한다.\n",
    "- 견고함(Robustness): 하드웨어 및 소프트웨어의 장애를 피하기 위해 작업을 복제하여 여러가지 안정적인 방식으로 운영한다.\n",
    "- 간소화(Simplicity): 복잡한 작업을 좀 더 이해하기 쉽고, 해결하기 쉬운 여러 작은 작업으로 분해한다.\n",
    "- 커뮤니케이션(Communication): 데이터(바이트)를 보내고 싶은 곳에 원격으로 전송하고, 데이터를 다시 수신 받는다.\n",
    "\n",
    "** 컴퓨터가 일을 수행하면서 뭔가 기다린다면, 두 가지 이유중 하나이다.**\n",
    "- I/O 바운드: CPU는 정말 빠르기 때문에 보통 이 경우에 해당함\n",
    "- CPU 바운드: 정말엄청데~단한계산할때\n",
    "\n",
    "** 다음의 용어는 병행성과 관련이 있다.**\n",
    "- 동기(Synchronous): 한 작업은 다른 작업을 따른다.\n",
    "- 비동기(Asynchronous): 작업들이 각각 독립적이다."
   ]
  },
  {
   "cell_type": "markdown",
   "metadata": {},
   "source": [
    "### Queue\n",
    "** FIFO **<br>\n",
    "** 분산 작업 관리를 위한 큐의 경우 작업 큐_(work queue, job queue, task queue)_라고 알려져 있음**"
   ]
  },
  {
   "cell_type": "markdown",
   "metadata": {},
   "source": [
    "### Process\n",
    "**Queue를 구현하는 여러가지 방법 중 한 가지 방법**"
   ]
  },
  {
   "cell_type": "code",
   "execution_count": 4,
   "metadata": {
    "collapsed": false
   },
   "outputs": [
    {
     "name": "stdout",
     "output_type": "stream",
     "text": [
      "Drying salad dish\n",
      "Drying bread dish\n",
      "Drying entree dish\n",
      "Drying dessert dish\n",
      "Washing salad dish\n",
      "Washing bread dish\n",
      "Washing entree dish\n",
      "Washing dessert dish\n"
     ]
    }
   ],
   "source": [
    "import multiprocessing as mp\n",
    "\n",
    "def washer(dishes, output):\n",
    "    for dish in dishes:\n",
    "        print('Washing', dish, 'dish')\n",
    "        output.put(dish)\n",
    "\n",
    "def dryer(input):\n",
    "    while True:\n",
    "        dish = input.get()\n",
    "        print('Drying', dish, 'dish')\n",
    "        input.task_done()\n",
    "        \n",
    "dish_queue = mp.JoinableQueue()\n",
    "dryer_proc = mp.Process(target=dryer, args=(dish_queue,))\n",
    "dryer_proc.daemon = True\n",
    "dryer_proc.start()\n",
    "\n",
    "dishes = ['salad', 'bread', 'entree', 'dessert']\n",
    "washer(dishes, dish_queue)\n",
    "dish_queue.join()"
   ]
  },
  {
   "cell_type": "markdown",
   "metadata": {},
   "source": [
    "**이터레이터와 매우 유사**"
   ]
  },
  {
   "cell_type": "markdown",
   "metadata": {},
   "source": [
    "### Thread\n",
    "** Thread는 한 프로세스 내에서 실행 됨 **<br>\n",
    "** 프로세스의 모든 자원에 접근할 수 있음**"
   ]
  },
  {
   "cell_type": "code",
   "execution_count": 5,
   "metadata": {
    "collapsed": false
   },
   "outputs": [
    {
     "name": "stdout",
     "output_type": "stream",
     "text": [
      "Thread <_MainThread(MainThread, started 140646213403776)> says: I'm the main program\n",
      "Thread <Thread(Thread-4, started 140645901506304)> says: I'm function 0\n",
      "Thread <Thread(Thread-5, started 140645482100480)> says: I'm function 1Thread <Thread(Thread-6, started 140645901506304)> says: I'm function 2\n",
      "\n",
      "Thread <Thread(Thread-7, started 140645482100480)> says: I'm function 3\n"
     ]
    }
   ],
   "source": [
    "import threading\n",
    "\n",
    "def do_this(what):\n",
    "    whoami(what)\n",
    "    \n",
    "def whoami(what):\n",
    "    print(\"Thread %s says: %s\" % (threading.current_thread(), what))\n",
    "    \n",
    "if __name__ == \"__main__\":\n",
    "    whoami(\"I'm the main program\")\n",
    "    for n in range(4):\n",
    "        p = threading.Thread(target=do_this, args=(\"I'm function %s\" % n,))\n",
    "        p.start()"
   ]
  },
  {
   "cell_type": "markdown",
   "metadata": {},
   "source": [
    "** 프로세스 기반의 윗 예제를 스레드로 구현하자. **"
   ]
  },
  {
   "cell_type": "code",
   "execution_count": 6,
   "metadata": {
    "collapsed": false
   },
   "outputs": [
    {
     "name": "stdout",
     "output_type": "stream",
     "text": [
      "Washing salad\n",
      "WashingDrying salad\n",
      " bread\n",
      "Drying Washingbread \n",
      "entree\n",
      "Drying Washingentree \n",
      "desert\n",
      "Drying desert\n"
     ]
    }
   ],
   "source": [
    "import threading, queue\n",
    "import time\n",
    "\n",
    "def washer(dishes, dish_queue):\n",
    "    for dish in dishes:\n",
    "        print(\"Washing\", dish)\n",
    "        time.sleep(5)\n",
    "        dish_queue.put(dish)\n",
    "        \n",
    "def dryer(dish_queue):\n",
    "    while True:\n",
    "        dish = dish_queue.get()\n",
    "        print(\"Drying\", dish)\n",
    "        time.sleep(10)\n",
    "        dish_queue.task_done()\n",
    "\n",
    "dish_queue = queue.Queue()\n",
    "for n in range(2):\n",
    "    dryer_thread = threading.Thread(target=dryer, args=(dish_queue,))\n",
    "    dryer_thread.start()\n",
    "    \n",
    "dishes = ['salad', 'bread', 'entree', 'desert']\n",
    "washer(dishes, dish_queue)\n",
    "dish_queue.join()"
   ]
  },
  {
   "cell_type": "markdown",
   "metadata": {},
   "source": [
    "** _스레드는 전역 데이터가 관여하지 않을 때 유용하고 안전하다._ **"
   ]
  },
  {
   "cell_type": "code",
   "execution_count": null,
   "metadata": {
    "collapsed": true
   },
   "outputs": [],
   "source": []
  }
 ],
 "metadata": {
  "kernelspec": {
   "display_name": "Python 3",
   "language": "python",
   "name": "python3"
  },
  "language_info": {
   "codemirror_mode": {
    "name": "ipython",
    "version": 3
   },
   "file_extension": ".py",
   "mimetype": "text/x-python",
   "name": "python",
   "nbconvert_exporter": "python",
   "pygments_lexer": "ipython3",
   "version": "3.6.0"
  }
 },
 "nbformat": 4,
 "nbformat_minor": 2
}
