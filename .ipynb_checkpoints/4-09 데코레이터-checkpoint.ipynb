{
 "cells": [
  {
   "cell_type": "markdown",
   "metadata": {},
   "source": [
    "# 데코레이터\n",
    "** 데코레이터는 하나의 함수를 취해서 또 다른 함수를 반환하는 함수 **<br>\n",
    "** 필요한 것: **\n",
    " - \\*args와 \\*\\*kargs\n",
    " - 내부 함수\n",
    " - 함수 인자"
   ]
  },
  {
   "cell_type": "code",
   "execution_count": 1,
   "metadata": {
    "collapsed": false
   },
   "outputs": [
    {
     "data": {
      "text/plain": [
       "8"
      ]
     },
     "execution_count": 1,
     "metadata": {},
     "output_type": "execute_result"
    }
   ],
   "source": [
    "# document_it() 함수는 다음과 같이 데코레이터 정의\n",
    "# 함수 이름과 인자값을 출력\n",
    "# 인자로 함수 실행\n",
    "# 결과 출력\n",
    "# 수정된 함수를 사용할 수 있도록 반환\n",
    "\n",
    "def document_it(func):\n",
    "    def new_function(*args, **kwargs):\n",
    "        print('Running function: ', func.__name__)\n",
    "        print('Positional arguemnts: ', args)\n",
    "        print('Keyword arguments: ', kwargs)\n",
    "        result = func(*args, **kwargs)\n",
    "        print('Result: ', result)\n",
    "        return result\n",
    "    return new_function\n",
    "\n",
    "\n",
    "\n"
   ]
  },
  {
   "cell_type": "markdown",
   "metadata": {},
   "source": [
    "** 어떤 함수 이름을 전달하든지 간에 document_it() 함수에 추가 선언문이 포함된 새 함수를 얻음 ** <br>\n",
    "** 실제로 func 함수로부터 코드를 실행하지 않음 **"
   ]
  },
  {
   "cell_type": "code",
   "execution_count": 4,
   "metadata": {
    "collapsed": false
   },
   "outputs": [
    {
     "name": "stdout",
     "output_type": "stream",
     "text": [
      "8\n",
      "Running function:  add_ints\n",
      "Positional arguemnts:  (3, 5)\n",
      "Keyword arguments:  {}\n",
      "Result:  8\n"
     ]
    },
    {
     "data": {
      "text/plain": [
       "8"
      ]
     },
     "execution_count": 4,
     "metadata": {},
     "output_type": "execute_result"
    }
   ],
   "source": [
    "# 수동으로 데코레이터 적용\n",
    "\n",
    "def add_ints(a, b):\n",
    "    return a+b\n",
    "\n",
    "print(add_ints(3, 5))\n",
    "\n",
    "cooler_add_ints = document_it(add_ints)\n",
    "cooler_add_ints(3, 5)"
   ]
  },
  {
   "cell_type": "markdown",
   "metadata": {},
   "source": [
    "** 이렇게 하는 대신 다음과 같이 데코레이터를 사용하고 싶은 함수에 그냥 __@데코레이터\\_이름__을 추가한다.**"
   ]
  },
  {
   "cell_type": "code",
   "execution_count": 5,
   "metadata": {
    "collapsed": false
   },
   "outputs": [
    {
     "name": "stdout",
     "output_type": "stream",
     "text": [
      "Running function:  add_ints\n",
      "Positional arguemnts:  (3, 5)\n",
      "Keyword arguments:  {}\n",
      "Result:  8\n"
     ]
    },
    {
     "data": {
      "text/plain": [
       "8"
      ]
     },
     "execution_count": 5,
     "metadata": {},
     "output_type": "execute_result"
    }
   ],
   "source": [
    "@document_it\n",
    "def add_ints(a, b):\n",
    "    return a+b\n",
    "\n",
    "add_ints(3, 5)"
   ]
  },
  {
   "cell_type": "markdown",
   "metadata": {},
   "source": [
    "** 함수는 여러개의 데코레이터를 가질 수 있다.**"
   ]
  },
  {
   "cell_type": "code",
   "execution_count": 8,
   "metadata": {
    "collapsed": false
   },
   "outputs": [
    {
     "name": "stdout",
     "output_type": "stream",
     "text": [
      "Running function:  new_function\n",
      "Positional arguemnts:  (3, 5)\n",
      "Keyword arguments:  {}\n",
      "Result:  64\n"
     ]
    },
    {
     "data": {
      "text/plain": [
       "64"
      ]
     },
     "execution_count": 8,
     "metadata": {},
     "output_type": "execute_result"
    }
   ],
   "source": [
    "def square_it(func):\n",
    "    def new_function(*args, **kwargs):\n",
    "        result=func(*args, **kwargs)\n",
    "        return result * result\n",
    "    return new_function\n",
    "\n",
    "@document_it\n",
    "@square_it\n",
    "def add_ints(a, b):\n",
    "    return a+b\n",
    "\n",
    "add_ints(3, 5)"
   ]
  },
  {
   "cell_type": "markdown",
   "metadata": {},
   "source": [
    "** 함수에서 가장 가까운 데코레이터를 먼저 실행한 후, 그 위의 데코레이터가 실행된다. **"
   ]
  },
  {
   "cell_type": "code",
   "execution_count": 9,
   "metadata": {
    "collapsed": false
   },
   "outputs": [
    {
     "name": "stdout",
     "output_type": "stream",
     "text": [
      "Running function:  add_ints\n",
      "Positional arguemnts:  (3, 5)\n",
      "Keyword arguments:  {}\n",
      "Result:  8\n"
     ]
    },
    {
     "data": {
      "text/plain": [
       "64"
      ]
     },
     "execution_count": 9,
     "metadata": {},
     "output_type": "execute_result"
    }
   ],
   "source": [
    "# 순서를 바꿔보자.\n",
    "\n",
    "@square_it\n",
    "@document_it\n",
    "def add_ints(a, b):\n",
    "    return a+b\n",
    "\n",
    "add_ints(3, 5)"
   ]
  }
 ],
 "metadata": {
  "kernelspec": {
   "display_name": "Python 3",
   "language": "python",
   "name": "python3"
  },
  "language_info": {
   "codemirror_mode": {
    "name": "ipython",
    "version": 3
   },
   "file_extension": ".py",
   "mimetype": "text/x-python",
   "name": "python",
   "nbconvert_exporter": "python",
   "pygments_lexer": "ipython3",
   "version": "3.6.0"
  }
 },
 "nbformat": 4,
 "nbformat_minor": 2
}
