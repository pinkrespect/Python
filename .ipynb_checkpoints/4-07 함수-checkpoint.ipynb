{
 "cells": [
  {
   "cell_type": "markdown",
   "metadata": {},
   "source": [
    "## p132 기본 매개변수값 지정하기"
   ]
  },
  {
   "cell_type": "code",
   "execution_count": 1,
   "metadata": {
    "collapsed": false
   },
   "outputs": [
    {
     "data": {
      "text/plain": [
       "{'dessert': 'pudding', 'entree': 'chicken', 'wine': 'chardonnay'}"
      ]
     },
     "execution_count": 1,
     "metadata": {},
     "output_type": "execute_result"
    }
   ],
   "source": [
    "def menu(wine, entree, dessert='pudding'):\n",
    "    return {'wine':wine, 'entree':entree, 'dessert':dessert}\n",
    "\n",
    "# dessert에 해당하는 기본 인자를 설정해 주었다.\n",
    "\n",
    "menu('chardonnay', 'chicken')\n",
    "\n",
    "# 설정하면 이렇게 지정하지 않았을 때 default가 된다."
   ]
  },
  {
   "cell_type": "markdown",
   "metadata": {
    "collapsed": true
   },
   "source": [
    "**기본 인자값은 함수가 실행될 때 계산되는게 아니라 함수를 정의할 때 계산된다**"
   ]
  },
  {
   "cell_type": "code",
   "execution_count": 3,
   "metadata": {
    "collapsed": false
   },
   "outputs": [
    {
     "name": "stdout",
     "output_type": "stream",
     "text": [
      "['a']\n",
      "['a', 'b']\n"
     ]
    }
   ],
   "source": [
    "def buggy(arg, result=[]):\n",
    "    result.append(arg)\n",
    "    print(result)\n",
    "    \n",
    "# buggy 함수를 실행할 때마다 빈 result 리스트에 arg 인자를 추가하고자 했다.\n",
    "\n",
    "buggy('a')\n",
    "buggy('b')\n",
    "\n",
    "# 그렇지만 기본 인자값이 함수를 정의할 때 계산되었기 때문에,\n",
    "# 삭제되지 않은 처음 리스트에 append 된 것!"
   ]
  },
  {
   "cell_type": "code",
   "execution_count": 8,
   "metadata": {
    "collapsed": false
   },
   "outputs": [
    {
     "name": "stdout",
     "output_type": "stream",
     "text": [
      "['a']\n",
      "['b']\n"
     ]
    }
   ],
   "source": [
    "def works(arg):\n",
    "    result = []\n",
    "    result.append(arg)\n",
    "    return result\n",
    "\n",
    "# 1. 이렇게 기본 인자로 선언하지 않고, 함수 내부에 선언하는 방법\n",
    "\n",
    "print(works('a'))\n",
    "print(works('b'))"
   ]
  },
  {
   "cell_type": "code",
   "execution_count": 9,
   "metadata": {
    "collapsed": false
   },
   "outputs": [
    {
     "name": "stdout",
     "output_type": "stream",
     "text": [
      "['a']\n",
      "['b']\n"
     ]
    }
   ],
   "source": [
    "def nonbuggy(arg, result=None):\n",
    "    if result is None:\n",
    "        result = []\n",
    "    result.append(arg)\n",
    "    print(result)\n",
    "    \n",
    "# 2. 이렇게 매개변수 선언 할 때 바로 초기화 하는 방법\n",
    "\n",
    "nonbuggy('a')\n",
    "nonbuggy('b')"
   ]
  },
  {
   "cell_type": "markdown",
   "metadata": {},
   "source": [
    "## p133 위치 인자 모으기: *"
   ]
  },
  {
   "cell_type": "code",
   "execution_count": 10,
   "metadata": {
    "collapsed": false
   },
   "outputs": [
    {
     "name": "stdout",
     "output_type": "stream",
     "text": [
      "Positional argument tuple: ()\n",
      "Positional argument tuple: (3, 2, 1, 'wait!', 'uh...')\n"
     ]
    }
   ],
   "source": [
    "# print_args() 함수에 인자를 전달하여, args 매개 변수의 튜플 결과 살펴보기\n",
    "def print_args(*args):\n",
    "    print('Positional argument tuple:', args)\n",
    "\n",
    "print_args()\n",
    "# 아무 것도 없음\n",
    "\n",
    "print_args(3, 2, 1, 'wait!', 'uh...')\n",
    "# 가변 인자인 경우 편리함을 알 수 있다."
   ]
  },
  {
   "cell_type": "code",
   "execution_count": 11,
   "metadata": {
    "collapsed": false
   },
   "outputs": [
    {
     "name": "stdout",
     "output_type": "stream",
     "text": [
      "Need this one:  cap\n",
      "Need this one too:  gloves\n",
      "All the rest:  ('scarf', 'monocle', 'mustache wax')\n"
     ]
    }
   ],
   "source": [
    "def print_more(required1, required2, *args):\n",
    "    print('Need this one: ', required1)\n",
    "    print('Need this one too: ', required2)\n",
    "    print('All the rest: ' , args)\n",
    "    \n",
    "print_more('cap', 'gloves', 'scarf', 'monocle', 'mustache wax')\n",
    "\n",
    "# *args에 나머지 인자들이 모두 들어갔다."
   ]
  },
  {
   "cell_type": "markdown",
   "metadata": {},
   "source": [
    "## p134 키워드 인자 모으기: **"
   ]
  },
  {
   "cell_type": "code",
   "execution_count": 12,
   "metadata": {
    "collapsed": false
   },
   "outputs": [
    {
     "name": "stdout",
     "output_type": "stream",
     "text": [
      "keyword arguments:  {'wine': 'merlot', 'entree': 'mutton', 'dessert': 'macaroon'}\n"
     ]
    }
   ],
   "source": [
    "# 키워드 인자를 딕셔너리로 묶기 위해 두개의 애스터리스크를 사용할 수 있다.\n",
    "def print_kwargs(**kwargs):\n",
    "    print('keyword arguments: ', kwargs)\n",
    "    \n",
    "print_kwargs(wine='merlot', entree='mutton', dessert='macaroon')\n",
    "\n",
    "# 함수 안에 kwargs 딕셔너리가 있다."
   ]
  },
  {
   "cell_type": "markdown",
   "metadata": {},
   "source": [
    "** 관용적으로 kwargs를 사용한다. **"
   ]
  },
  {
   "cell_type": "markdown",
   "metadata": {},
   "source": [
    "##  p136 일등 시민: 함수"
   ]
  },
  {
   "cell_type": "code",
   "execution_count": 20,
   "metadata": {
    "collapsed": false
   },
   "outputs": [
    {
     "name": "stdout",
     "output_type": "stream",
     "text": [
      "42\n",
      "42\n"
     ]
    }
   ],
   "source": [
    "# 아무 인자가 없는 answer() 함수를 정의\n",
    "\n",
    "def answer():\n",
    "    print(42)\n",
    "    \n",
    "answer()\n",
    "\n",
    "# run_something이라는 함수를 정의\n",
    "# 함수를 실행하는 func 매개 변수가 있음\n",
    "\n",
    "def run_something(func):\n",
    "    func()\n",
    "    \n",
    "run_something(answer)"
   ]
  },
  {
   "cell_type": "markdown",
   "metadata": {},
   "source": [
    "** answer()를 전달하는 것이 아니라 answer를 전달 **<br>\n",
    "** 괄호가 없으면 함수를 다른 모든 객체와 마찬가지로 간주 **"
   ]
  },
  {
   "cell_type": "code",
   "execution_count": 19,
   "metadata": {
    "collapsed": false
   },
   "outputs": [
    {
     "data": {
      "text/plain": [
       "function"
      ]
     },
     "execution_count": 19,
     "metadata": {},
     "output_type": "execute_result"
    }
   ],
   "source": [
    "type(run_something)"
   ]
  },
  {
   "cell_type": "code",
   "execution_count": 21,
   "metadata": {
    "collapsed": false
   },
   "outputs": [
    {
     "data": {
      "text/plain": [
       "function"
      ]
     },
     "execution_count": 21,
     "metadata": {},
     "output_type": "execute_result"
    }
   ],
   "source": [
    "# 인자를 넣어서 함수를 실행해 보기\n",
    "\n",
    "def add_args(arg1, arg2):\n",
    "    print(arg1 + arg2)\n",
    "\n",
    "type(add_args)"
   ]
  },
  {
   "cell_type": "code",
   "execution_count": 23,
   "metadata": {
    "collapsed": false
   },
   "outputs": [
    {
     "name": "stdout",
     "output_type": "stream",
     "text": [
      "14\n",
      "14\n"
     ]
    },
    {
     "data": {
      "text/plain": [
       "True"
      ]
     },
     "execution_count": 23,
     "metadata": {},
     "output_type": "execute_result"
    }
   ],
   "source": [
    "# 세 인자를 취하는 run_something_with_args() 호출\n",
    "\n",
    "def run_something_with_args(func, arg1, arg2):\n",
    "    func(arg1, arg2)\n",
    "    \n",
    "# func: 실행할 함수\n",
    "# arg1: func 함수의 첫 번째 인자\n",
    "# arg2: func 함수의 두 번째 인자\n",
    "    \n",
    "run_something_with_args(add_args, 5, 9) == add_args(5, 9)\n",
    "\n",
    "# 결국 두 개는 같은 함수가 된다."
   ]
  },
  {
   "cell_type": "code",
   "execution_count": 24,
   "metadata": {
    "collapsed": false
   },
   "outputs": [
    {
     "data": {
      "text/plain": [
       "10"
      ]
     },
     "execution_count": 24,
     "metadata": {},
     "output_type": "execute_result"
    }
   ],
   "source": [
    "# 여러개의 위치 인자를 취하는 함수 정의\n",
    "\n",
    "def sum_args(*args):\n",
    "    return sum(args)\n",
    "\n",
    "#sum(): 순회 가능한 숫자(정수, 부동소수점수) 인자의 값을 모두 더하는 파이썬 내장 함수\n",
    "\n",
    "def run_with_positional_args(func, *args):\n",
    "    return func(*args)\n",
    "\n",
    "run_with_positional_args(sum_args, 1, 2, 3, 4)"
   ]
  },
  {
   "cell_type": "markdown",
   "metadata": {},
   "source": [
    "** 함수를 리스트, 튜플, 셋, 딕셔너리의 요소로 사용할 수 있다. **<br>\n",
    "** 함수는 불변하기 때문에 딕셔너리의 키로도 사용할 수 있다. **"
   ]
  },
  {
   "cell_type": "markdown",
   "metadata": {},
   "source": [
    "## p138 내부 함수"
   ]
  },
  {
   "cell_type": "code",
   "execution_count": 27,
   "metadata": {
    "collapsed": false
   },
   "outputs": [
    {
     "data": {
      "text/plain": [
       "'We are the Crystal zems. :Pearl!'"
      ]
     },
     "execution_count": 27,
     "metadata": {},
     "output_type": "execute_result"
    }
   ],
   "source": [
    "def knights(saying):\n",
    "    def inner(quote):\n",
    "        return \"We are the Crystal zems. :%s\" % quote\n",
    "    return inner(saying)\n",
    "\n",
    "knights('Pearl!')"
   ]
  },
  {
   "cell_type": "markdown",
   "metadata": {},
   "source": [
    "## p139 Closure"
   ]
  },
  {
   "cell_type": "markdown",
   "metadata": {},
   "source": [
    "** 내부 함수는 클로져(Closure)처럼 행동할 수 있다. ** <br>\n",
    "** Closure은 다른 함수에 의해 동적으로 생성 ** <br>\n",
    "** 바깥 함수로부터 생성된 변수값을 변경하고, 저장할 수 있음 ** <br>"
   ]
  },
  {
   "cell_type": "code",
   "execution_count": 31,
   "metadata": {
    "collapsed": false
   },
   "outputs": [
    {
     "name": "stdout",
     "output_type": "stream",
     "text": [
      "<class 'function'>\n",
      "<class 'function'>\n",
      "<function knights2.<locals>.inner2 at 0x000001DD93D66A60>\n",
      "<function knights2.<locals>.inner2 at 0x000001DD93D75510>\n"
     ]
    }
   ],
   "source": [
    "# inner2()는 인자를 취하지 않고, 외부 함수의 변수를 직접 사용\n",
    "# knights2()는 inner2 함수 이름을 호출하지 않고, 이를 반환\n",
    "\n",
    "def knights2(saying):\n",
    "    def inner2():\n",
    "        return \"We are the Crystal zems. :%s\" % saying\n",
    "    return inner2\n",
    "\n",
    "a = knights2('Amethist')\n",
    "b = knights2('Garnet')\n",
    "\n",
    "print(type(a))\n",
    "print(type(b))\n",
    "\n",
    "# 타입은 함수이지만\n",
    "\n",
    "print(a)\n",
    "print(b)\n",
    "\n",
    "# 클로져이기도 하다."
   ]
  },
  {
   "cell_type": "markdown",
   "metadata": {},
   "source": [
    "## p140 익명 함수: lambda()"
   ]
  },
  {
   "cell_type": "code",
   "execution_count": 32,
   "metadata": {
    "collapsed": false
   },
   "outputs": [
    {
     "name": "stdout",
     "output_type": "stream",
     "text": [
      "Thud!\n",
      "Meow!\n",
      "Thud!\n",
      "Hiss!\n"
     ]
    }
   ],
   "source": [
    "# words: words list\n",
    "# func: words의 각 word 문자열에 적용되는 함수\n",
    "\n",
    "def edit_story(words, func):\n",
    "    for word in words:\n",
    "        print(func(word))\n",
    "\n",
    "stairs = ['thud', 'meow', 'thud', 'hiss']\n",
    "\n",
    "# 첫 글자를 대문자로 바꾸고 느낌표를 붙임\n",
    "\n",
    "def enliven(word):\n",
    "    return word.capitalize() + '!'\n",
    "\n",
    "edit_story(stairs, enliven)"
   ]
  },
  {
   "cell_type": "code",
   "execution_count": 33,
   "metadata": {
    "collapsed": false
   },
   "outputs": [
    {
     "name": "stdout",
     "output_type": "stream",
     "text": [
      "Thud!\n",
      "Meow!\n",
      "Thud!\n",
      "Hiss!\n"
     ]
    }
   ],
   "source": [
    "# 람다 사용\n",
    "\n",
    "edit_story(stairs, lambda word: word.capitalize() + '!')"
   ]
  },
  {
   "cell_type": "markdown",
   "metadata": {},
   "source": [
    "** 많은 작은 함수를 정의하고, 이들을 호출해서 얻은 모든 결과값을 저장해야 하는 경우에 유용 ** <br>\n",
    "** 콜백 함수를 정의하는 GUI에서 람다를 사용할 수 있음 **"
   ]
  }
 ],
 "metadata": {
  "kernelspec": {
   "display_name": "Python 3",
   "language": "python",
   "name": "python3"
  },
  "language_info": {
   "codemirror_mode": {
    "name": "ipython",
    "version": 3
   },
   "file_extension": ".py",
   "mimetype": "text/x-python",
   "name": "python",
   "nbconvert_exporter": "python",
   "pygments_lexer": "ipython3",
   "version": "3.6.0"
  }
 },
 "nbformat": 4,
 "nbformat_minor": 2
}
