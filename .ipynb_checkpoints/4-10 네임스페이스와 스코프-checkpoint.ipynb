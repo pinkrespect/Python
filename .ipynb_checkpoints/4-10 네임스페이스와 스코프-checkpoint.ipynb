{
 "cells": [
  {
   "cell_type": "markdown",
   "metadata": {},
   "source": [
    "# 네임스페이스와 스코프\n",
    "\n",
    "** name은 사용되는 위치에 따라 다른 것을 참조할 수 있다. **<p>\n",
    "** 네임스페이스?**\n",
    "- 특정 이름이 유일\n",
    "- 다른 네임스페이스에서의 같은 이름과 관계 없음\n",
    "- 각 함수는 자신의 네임스페이스를 정의\n",
    "\n",
    "** 하지만 다양한 방법으로 다른 네임스페이스의 이름 접근 가능**<br>\n",
    "** 메인 프로그램은 전역 네임스페이스를 정의 **"
   ]
  },
  {
   "cell_type": "code",
   "execution_count": 1,
   "metadata": {
    "collapsed": false
   },
   "outputs": [
    {
     "name": "stdout",
     "output_type": "stream",
     "text": [
      "at the top level:  fruitbat\n",
      "inside print_global:  fruitbat\n"
     ]
    }
   ],
   "source": [
    "animal = 'fruitbat'\n",
    "\n",
    "def print_global():\n",
    "    print('inside print_global: ', animal)\n",
    "    \n",
    "print('at the top level: ', animal)\n",
    "\n",
    "print_global()"
   ]
  },
  {
   "cell_type": "markdown",
   "metadata": {},
   "source": [
    "** 함수에서 전역 변수의 값을 얻어서 바꾸려 하면 에러가 발생한다 **"
   ]
  },
  {
   "cell_type": "code",
   "execution_count": 5,
   "metadata": {
    "collapsed": false
   },
   "outputs": [
    {
     "ename": "UnboundLocalError",
     "evalue": "local variable 'animal' referenced before assignment",
     "output_type": "error",
     "traceback": [
      "\u001b[0;31m---------------------------------------------------------------------------\u001b[0m",
      "\u001b[0;31mUnboundLocalError\u001b[0m                         Traceback (most recent call last)",
      "\u001b[0;32m<ipython-input-5-a776189c3b76>\u001b[0m in \u001b[0;36m<module>\u001b[0;34m()\u001b[0m\n\u001b[1;32m      4\u001b[0m     \u001b[0mprint\u001b[0m\u001b[1;33m(\u001b[0m\u001b[1;34m'after the change: '\u001b[0m\u001b[1;33m,\u001b[0m \u001b[0manimal\u001b[0m\u001b[1;33m)\u001b[0m\u001b[1;33m\u001b[0m\u001b[0m\n\u001b[1;32m      5\u001b[0m \u001b[1;33m\u001b[0m\u001b[0m\n\u001b[0;32m----> 6\u001b[0;31m \u001b[0mchange_and_print_global\u001b[0m\u001b[1;33m(\u001b[0m\u001b[1;33m)\u001b[0m\u001b[1;33m\u001b[0m\u001b[0m\n\u001b[0m",
      "\u001b[0;32m<ipython-input-5-a776189c3b76>\u001b[0m in \u001b[0;36mchange_and_print_global\u001b[0;34m()\u001b[0m\n\u001b[1;32m      1\u001b[0m \u001b[1;32mdef\u001b[0m \u001b[0mchange_and_print_global\u001b[0m\u001b[1;33m(\u001b[0m\u001b[1;33m)\u001b[0m\u001b[1;33m:\u001b[0m\u001b[1;33m\u001b[0m\u001b[0m\n\u001b[0;32m----> 2\u001b[0;31m     \u001b[0mprint\u001b[0m\u001b[1;33m(\u001b[0m\u001b[1;34m'inside change_and_print_global: '\u001b[0m\u001b[1;33m,\u001b[0m \u001b[0manimal\u001b[0m\u001b[1;33m)\u001b[0m\u001b[1;33m\u001b[0m\u001b[0m\n\u001b[0m\u001b[1;32m      3\u001b[0m     \u001b[0manimal\u001b[0m \u001b[1;33m=\u001b[0m \u001b[1;34m'wombat'\u001b[0m\u001b[1;33m\u001b[0m\u001b[0m\n\u001b[1;32m      4\u001b[0m     \u001b[0mprint\u001b[0m\u001b[1;33m(\u001b[0m\u001b[1;34m'after the change: '\u001b[0m\u001b[1;33m,\u001b[0m \u001b[0manimal\u001b[0m\u001b[1;33m)\u001b[0m\u001b[1;33m\u001b[0m\u001b[0m\n\u001b[1;32m      5\u001b[0m \u001b[1;33m\u001b[0m\u001b[0m\n",
      "\u001b[0;31mUnboundLocalError\u001b[0m: local variable 'animal' referenced before assignment"
     ]
    }
   ],
   "source": [
    "def change_and_print_global():\n",
    "    print('inside change_and_print_global: ', animal)\n",
    "    animal = 'wombat'\n",
    "    print('after the change: ', animal)\n",
    "    \n",
    "change_and_print_global()"
   ]
  },
  {
   "cell_type": "markdown",
   "metadata": {},
   "source": [
    "** 전역 변수를 바꾸려 한다면, 또 다른 이름의 animal 변수를 변경하려 한다. **<br>"
   ]
  },
  {
   "cell_type": "code",
   "execution_count": 6,
   "metadata": {
    "collapsed": false
   },
   "outputs": [
    {
     "name": "stdout",
     "output_type": "stream",
     "text": [
      "inside change_local: wombat 2719569016568\n"
     ]
    },
    {
     "data": {
      "text/plain": [
       "2719568903280"
      ]
     },
     "execution_count": 6,
     "metadata": {},
     "output_type": "execute_result"
    }
   ],
   "source": [
    "# 함수 내에 있는 지역 변수\n",
    "def change_local():\n",
    "    animal = 'wombat'\n",
    "    print(\"inside change_local:\", animal, id(animal))\n",
    "    \n",
    "change_local()\n",
    "\n",
    "animal\n",
    "\n",
    "id(animal)"
   ]
  },
  {
   "cell_type": "markdown",
   "metadata": {},
   "source": [
    "** 함수 내부에 있는 변수의 id와 외부에 있는 id가 다르다. ** <br>\n",
    "** 함수 내부에 있는 local variable이 아닌 global variable에게 접근하기 위해 **<br>\n",
    "** _global_ 키워드를 사용해서 접근을 명시해야 한다 **"
   ]
  },
  {
   "cell_type": "code",
   "execution_count": 8,
   "metadata": {
    "collapsed": false
   },
   "outputs": [
    {
     "name": "stdout",
     "output_type": "stream",
     "text": [
      "fruitbat\n",
      "inside change_and_print_global wombat\n",
      "wombat\n"
     ]
    }
   ],
   "source": [
    "animal = 'fruitbat'\n",
    "\n",
    "def change_and_print_global():\n",
    "    global animal\n",
    "    animal = 'wombat'\n",
    "    print('inside change_and_print_global', animal)\n",
    "\n",
    "print(animal)\n",
    "\n",
    "change_and_print_global()\n",
    "\n",
    "print(animal)"
   ]
  },
  {
   "cell_type": "markdown",
   "metadata": {},
   "source": [
    "** 함수 안에 global 키워드를 사용하지 않으면 파이썬은 로컬 네임스페이스를 사용하고, **<br>\n",
    "** 변수는 지역 변수가 된다. 지역 변수는 함수를 수행한 뒤에 사라진다.**<p>\n",
    "** 파이썬은 name space의 내용을 접근하기 위해 두가지 함수를 제공한다 ** <br>\n",
    "- **locals()** 로컬 네임스페이스의 내용이 담긴 dict 반환\n",
    "- **globals()** global namespace의 내용이 담긴 dict 반환"
   ]
  },
  {
   "cell_type": "code",
   "execution_count": 10,
   "metadata": {
    "collapsed": false
   },
   "outputs": [
    {
     "name": "stdout",
     "output_type": "stream",
     "text": [
      "fruitbat\n",
      "locals:  {'animal': 'wombat'}\n",
      "fruitbat\n"
     ]
    }
   ],
   "source": [
    "animal = 'fruitbat'\n",
    "\n",
    "def change_local():\n",
    "    animal = 'wombat'\n",
    "    print('locals: ', locals())\n",
    "    \n",
    "print(animal)\n",
    "\n",
    "change_local()\n",
    "\n",
    "# print('globals: ', globals())\n",
    "# jupyter notebook에서 globals 출력 이상해 ㅠ0ㅠ\n",
    "\n",
    "print(animal)"
   ]
  },
  {
   "cell_type": "markdown",
   "metadata": {},
   "source": [
    "## 이름에 _와 __ 사용\n",
    "** __로 시작하고 끝나는 이름은 파이썬 내의 사용을 위해 예약되어 있음 **"
   ]
  },
  {
   "cell_type": "code",
   "execution_count": 15,
   "metadata": {
    "collapsed": false
   },
   "outputs": [
    {
     "name": "stdout",
     "output_type": "stream",
     "text": [
      "This function is named:  amazing\n",
      "And its docstring is:  This is the amazing function.\n",
      "    What to see it again?\n"
     ]
    }
   ],
   "source": [
    "def amazing():\n",
    "    '''This is the amazing function.\n",
    "    What to see it again?'''\n",
    "    print('This function is named: ', amazing.__name__)\n",
    "    print('And its docstring is: ', amazing.__doc__)\n",
    "    \n",
    "amazing()"
   ]
  }
 ],
 "metadata": {
  "kernelspec": {
   "display_name": "Python 3",
   "language": "python",
   "name": "python3"
  },
  "language_info": {
   "codemirror_mode": {
    "name": "ipython",
    "version": 3
   },
   "file_extension": ".py",
   "mimetype": "text/x-python",
   "name": "python",
   "nbconvert_exporter": "python",
   "pygments_lexer": "ipython3",
   "version": "3.6.0"
  }
 },
 "nbformat": 4,
 "nbformat_minor": 2
}
