{
 "cells": [
  {
   "cell_type": "markdown",
   "metadata": {},
   "source": [
    "## 덕타이핑\n",
    "** 파이썬에서는 polymorphism(다형성)을 느슨하게 구현 **<br>\n",
    "** 클래스에 상관없이 같은 동작을 다른 객체에 적용할 수 있다는 것**"
   ]
  },
  {
   "cell_type": "markdown",
   "metadata": {},
   "source": [
    "** 세 Quote 클래스에서 같은 ___init__()_ 이니셜라이저를 사용해보자. **\n",
    "- _who()_ 메소드는 저장된 person 문자열의 값을 반환\n",
    "- _says()_ 메소드는 특정 구두점과 함께 저장된 words 문자열 반환"
   ]
  },
  {
   "cell_type": "code",
   "execution_count": 13,
   "metadata": {
    "collapsed": false
   },
   "outputs": [
    {
     "name": "stdout",
     "output_type": "stream",
     "text": [
      "Pearl says:  I hope you can forgive me...You're the one good thing that came out of this mess, I always thought you were proud of that..\n",
      "Steven Universe says:  Did you make me just so you wouldn't have to deal with all your mistakes?\n",
      "Sardonyx says:  This is the lovely Sardonyx! Coming to you a-live from the soon-to-be-former Communication Hub!\n"
     ]
    }
   ],
   "source": [
    "class Quote():\n",
    "    def __init__(self, person, words):\n",
    "        self.person = person\n",
    "        self.words = words\n",
    "    def who(self):\n",
    "        return self.person\n",
    "    def says(self):\n",
    "        return self.words + '.'\n",
    "\n",
    "class QuestionQuote(Quote):\n",
    "    def says(self):\n",
    "        return self.words + '?'\n",
    "\n",
    "class ExclamationQuote(Quote):\n",
    "    def says(self):\n",
    "        return self.words + '!'\n",
    "    \n",
    "CrystalZem = Quote('Pearl', \"I hope you can forgive me...You're the one good thing that came out of this mess, I always thought you were proud of that.\")\n",
    "print(CrystalZem.who(), 'says: ', CrystalZem.says())\n",
    "\n",
    "CrystalZem1 = QuestionQuote('Steven Universe', \"Did you make me just so you wouldn't have to deal with all your mistakes\")\n",
    "print(CrystalZem1.who(), \"says: \", CrystalZem1.says())\n",
    "\n",
    "CrystalZem2 = ExclamationQuote('Sardonyx', \"This is the lovely Sardonyx! Coming to you a-live from the soon-to-be-former Communication Hub\")\n",
    "print(CrystalZem2.who(), \"says: \", CrystalZem2.says())"
   ]
  },
  {
   "cell_type": "markdown",
   "metadata": {},
   "source": [
    "** _QuestionQuote_와 _ExclamationQuote_ 클래스에서 초기화 함수를 사용 하지 않음 **<br>\n",
    "** 부모의 ___init__()_ 메소드를 오버라이드 하지 않는데, 자동으로 부모 클래스를 호출한다 **<br>"
   ]
  },
  {
   "cell_type": "markdown",
   "metadata": {},
   "source": [
    "** 심지어 파이썬은 모든 객체에서 이 메서드를 실행할 수 있게 도와준다. **\n",
    "> 사실 잘 이해를 못하겠음 왜 그렇죠?"
   ]
  },
  {
   "cell_type": "code",
   "execution_count": 15,
   "metadata": {
    "collapsed": false
   },
   "outputs": [
    {
     "name": "stdout",
     "output_type": "stream",
     "text": [
      "Pearl says :  I hope you can forgive me...You're the one good thing that came out of this mess, I always thought you were proud of that..\n",
      "Steven Universe says :  Did you make me just so you wouldn't have to deal with all your mistakes?\n",
      "Sardonyx says :  This is the lovely Sardonyx! Coming to you a-live from the soon-to-be-former Communication Hub!\n",
      "Opal says :  All you wanna do... is see me turn into...\n"
     ]
    }
   ],
   "source": [
    "class Crystalzem3():\n",
    "    def who(self):\n",
    "        return 'Opal'\n",
    "    def says(self):\n",
    "        return 'All you wanna do... is see me turn into...'\n",
    "        \n",
    "CrystalZem3 = Crystalzem3()\n",
    "\n",
    "def who_says(obj):\n",
    "    print(obj.who(), 'says : ', obj.says())\n",
    "    \n",
    "who_says(CrystalZem)\n",
    "who_says(CrystalZem1)\n",
    "who_says(CrystalZem2)\n",
    "who_says(CrystalZem3)"
   ]
  }
 ],
 "metadata": {
  "kernelspec": {
   "display_name": "Python 3",
   "language": "python",
   "name": "python3"
  },
  "language_info": {
   "codemirror_mode": {
    "name": "ipython",
    "version": 3
   },
   "file_extension": ".py",
   "mimetype": "text/x-python",
   "name": "python",
   "nbconvert_exporter": "python",
   "pygments_lexer": "ipython3",
   "version": "3.6.0"
  }
 },
 "nbformat": 4,
 "nbformat_minor": 2
}
