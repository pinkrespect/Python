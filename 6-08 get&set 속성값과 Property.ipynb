{
 "cells": [
  {
   "cell_type": "markdown",
   "metadata": {},
   "source": [
    "## get/set 속성값과 Property"
   ]
  },
  {
   "cell_type": "markdown",
   "metadata": {},
   "source": [
    "** getter나 setter 메소드가 필요 없는데, 모든 속성과 메소드는 public이고 쉽게 동작하기 때문 **<br>\n",
    "** getter과 setter 메소드를 작성할 수 있지만, Property를 사용하는 편이 좀 더 Pythonic 하다. **"
   ]
  },
  {
   "cell_type": "code",
   "execution_count": null,
   "metadata": {
    "collapsed": true
   },
   "outputs": [],
   "source": [
    "# hidden_name 이라는 속성으로 Duck 클래스를 정의한다.\n",
    "# 다음 절에서 속성이 private를 유지하도록 이름을 짓는 더 좋은 방법을 배울 것이다.\n",
    "\n",
    "class Duck():\n",
    "    "
   ]
  }
 ],
 "metadata": {
  "kernelspec": {
   "display_name": "Python 3",
   "language": "python",
   "name": "python3"
  },
  "language_info": {
   "codemirror_mode": {
    "name": "ipython",
    "version": 3
   },
   "file_extension": ".py",
   "mimetype": "text/x-python",
   "name": "python",
   "nbconvert_exporter": "python",
   "pygments_lexer": "ipython3",
   "version": "3.6.0"
  }
 },
 "nbformat": 4,
 "nbformat_minor": 2
}
