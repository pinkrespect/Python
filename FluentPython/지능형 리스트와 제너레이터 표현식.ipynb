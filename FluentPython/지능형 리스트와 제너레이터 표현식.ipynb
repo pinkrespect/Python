{
 "cells": [
  {
   "cell_type": "markdown",
   "metadata": {},
   "source": [
    "## List Comprehension\n",
    "**리스트 컴프리헨션**\n",
    "지능형 리스트(리스트형), 제너레이터 표현식(그 외 시퀀스)를 사용하면 시퀀스를 간단히 생성할 수 있고, 가독성에도 좋다."
   ]
  },
  {
   "cell_type": "markdown",
   "metadata": {},
   "source": [
    "### 지능형 리스트와 가독성\n",
    "#### 비교해보기\n",
    "**문자열에서 유니코드 코드포인트 리스트 만들기**"
   ]
  },
  {
   "cell_type": "code",
   "execution_count": 1,
   "metadata": {
    "collapsed": false
   },
   "outputs": [
    {
     "name": "stdout",
     "output_type": "stream",
     "text": [
      "[35, 36, 37, 94, 38, 42]\n"
     ]
    }
   ],
   "source": [
    "symbols = '#$%^&*'\n",
    "codes = []\n",
    "\n",
    "for symbol in symbols:\n",
    "    codes.append(ord(symbol))\n",
    "    \n",
    "print(codes)"
   ]
  },
  {
   "cell_type": "code",
   "execution_count": 2,
   "metadata": {
    "collapsed": false
   },
   "outputs": [
    {
     "name": "stdout",
     "output_type": "stream",
     "text": [
      "[35, 36, 37, 94, 38, 42]\n"
     ]
    }
   ],
   "source": [
    "symbols = '#$%^&*'\n",
    "codes = [ord(symbol) for symbol in symbols]\n",
    "print(codes)"
   ]
  },
  {
   "cell_type": "markdown",
   "metadata": {},
   "source": [
    "지능형 리스트는 오로지 새로운 리스트를 만드는 일만 한다.\n",
    "\n",
    "지능형 리스트 구문이 두 줄 이상 넘어가는 경우에는 코드를 분할하거나 for문을 이용해서 작성하는 것이 더 낫다."
   ]
  },
  {
   "cell_type": "markdown",
   "metadata": {},
   "source": [
    "#### 파이썬 2.x에 있었던 리스트 컴프리헨션 메모리 누수 문제\n",
    "**지능형 리스트, 제너레이터 표현식, 지능형 집합(set comprehension)과 지능형 딕셔너리(dict comprehension)은 함수처럼 고유한 지역 범위를 갖는다**\n",
    "표현식 안에서 할당된 변수는 지역 변수이지만, 주변 범위의 변수를 여전히 참조할 수 있다. 지역변수가 주변 범위의 변수를 가리지도 않는다."
   ]
  },
  {
   "cell_type": "code",
   "execution_count": 3,
   "metadata": {
    "collapsed": false
   },
   "outputs": [
    {
     "name": "stdout",
     "output_type": "stream",
     "text": [
      "ABC\n",
      "[65, 66, 67]\n"
     ]
    }
   ],
   "source": [
    "x = 'ABC'\n",
    "dummy = [ord(x) for x in x]\n",
    "print(x) # x의 값이 유지된다.\n",
    "print(dummy) # 지능형 리스트가 기대했던 리스트를 만든다."
   ]
  },
  {
   "cell_type": "markdown",
   "metadata": {},
   "source": [
    "### 지능형 리스트와 map()/filter() 비교\n",
    "**map()과 filter() 함수를 이용해서 수행할 수 있는 작업은 기능적으로 문제가 있는 파이썬 람다(lambda)를 억지로 끼워넣지 않고도 지능형 리스트를 이용해서 모두 구현할 수 있다.**"
   ]
  },
  {
   "cell_type": "code",
   "execution_count": 5,
   "metadata": {
    "collapsed": false
   },
   "outputs": [
    {
     "name": "stdout",
     "output_type": "stream",
     "text": [
      "[8364, 163]\n",
      "[8364, 163]\n"
     ]
    }
   ],
   "source": [
    "symbols = '€$£^&*'\n",
    "\n",
    "beyond_ascii = [ord(s) for s in symbols if ord(s) > 127]\n",
    "print(beyond_ascii)\n",
    "\n",
    "beyond_ascii = list(filter(lambda c: c > 127, map(ord, symbols)))\n",
    "print(beyond_ascii)"
   ]
  },
  {
   "cell_type": "markdown",
   "metadata": {},
   "source": [
    "### 데카르트 곱\n",
    "**두 개 이상의 반복 가능한 자료형의 데카르트 곱을 나타내는 일련의 리스트를 만들 수 있다. **\n",
    "\n",
    "각 항목은 입력으로 받은 반복 가능한 데이터의 각 요소에서 만들어진 튜플로 구성된다.\n",
    "\n",
    "생성된 리스트의 길이는 입력으로 받은 반복 가능한 데이터의 길이와 동일하다.\n",
    "\n",
    "\n",
    "**두개의 색상과 세가지 크기의 티셔츠 리스트를 만드는 경우를 생각해보자.**"
   ]
  },
  {
   "cell_type": "code",
   "execution_count": 8,
   "metadata": {
    "collapsed": false
   },
   "outputs": [
    {
     "name": "stdout",
     "output_type": "stream",
     "text": [
      "[('black', 'S'), ('black', 'M'), ('black', 'L'), ('white', 'S'), ('white', 'M'), ('white', 'L')]\n",
      "\n",
      "('black', 'S')\n",
      "('black', 'M')\n",
      "('black', 'L')\n",
      "('white', 'S')\n",
      "('white', 'M')\n",
      "('white', 'L')\n",
      "\n",
      "[('black', 'S'), ('white', 'S'), ('black', 'M'), ('white', 'M'), ('black', 'L'), ('white', 'L')]\n"
     ]
    }
   ],
   "source": [
    "colors = ['black', 'white']\n",
    "sizes = ['S', 'M', 'L']\n",
    "\n",
    "tshirts = [(color, size) for color in colors for size in sizes]\n",
    "print(tshirts)\n",
    "\n",
    "print(\"\")\n",
    "\n",
    "for color in colors:\n",
    "    for size in sizes:\n",
    "        print((color, size))\n",
    "print(\"\")\n",
    "        \n",
    "tshirts = [(color, size) for size in sizes\n",
    "                         for color in colors]\n",
    "print(tshirts)"
   ]
  },
  {
   "cell_type": "markdown",
   "metadata": {},
   "source": [
    "### 제너레이터 표현식\n",
    "**다른 생성자에 전달할 리스트를 통째로 만들지 않고 반복자 프로토콜(iterator protocol)을 이용해서 항목을 하나씩 생성하는 제너레이터 표현식을 만들 수 있다.**\n",
    "\n",
    "지능형 리스트와 동일한 구문을 사용하지만, 대괄호 대신 괄호를 사용한다."
   ]
  },
  {
   "cell_type": "code",
   "execution_count": 11,
   "metadata": {
    "collapsed": false
   },
   "outputs": [
    {
     "name": "stdout",
     "output_type": "stream",
     "text": [
      "(8364, 36, 163, 94, 38, 42)\n",
      "array('I', [8364, 36, 163, 94, 38, 42])\n"
     ]
    }
   ],
   "source": [
    "symbols = '€$£^&*'\n",
    "print(tuple(ord(symbol) for symbol in symbols)) # 제너레이터 표현식이 함수에 보내는 단 하나의 인수라면 괄호 안에 또 괄호를 넣을 필요는 없다.\n",
    "\n",
    "import array\n",
    "print(array.array('I', (ord(symbol) for symbol in symbols)))\n",
    "# 배열 생성자는 인수를 두 개 받으므로 제너레이터 표현식 앞뒤에 반드시 괄호를 넣어야 한다.\n",
    "# 배열 생성자의 첫 번째 인수는 배열에 들어갈 숫자들을 저장할 자료형을 지정한다."
   ]
  },
  {
   "cell_type": "markdown",
   "metadata": {},
   "source": [
    "**제너레이터 표현식은 티셔츠 리스트를 리스트 컴프리헨션으로 생성할 때와 달리 항목을 메모리 안에 생성하지 않는다.**"
   ]
  },
  {
   "cell_type": "code",
   "execution_count": 13,
   "metadata": {
    "collapsed": false
   },
   "outputs": [
    {
     "name": "stdout",
     "output_type": "stream",
     "text": [
      "black S\n",
      "black M\n",
      "black L\n",
      "white S\n",
      "white M\n",
      "white L\n"
     ]
    }
   ],
   "source": [
    "colors = ['black', 'white']\n",
    "sizes = ['S', 'M', 'L']\n",
    "\n",
    "for tshirt in ('%s %s' % (c, s) for c in colors for s in sizes):\n",
    "    print(tshirt)"
   ]
  }
 ],
 "metadata": {
  "kernelspec": {
   "display_name": "Python 3",
   "language": "python",
   "name": "python3"
  },
  "language_info": {
   "codemirror_mode": {
    "name": "ipython",
    "version": 3
   },
   "file_extension": ".py",
   "mimetype": "text/x-python",
   "name": "python",
   "nbconvert_exporter": "python",
   "pygments_lexer": "ipython3",
   "version": "3.6.0"
  }
 },
 "nbformat": 4,
 "nbformat_minor": 2
}
