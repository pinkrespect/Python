{
 "cells": [
  {
   "cell_type": "markdown",
   "metadata": {},
   "source": [
    "# 파이썬 표준 라이브러리\n",
    "** 파이썬은 batteries included라는 철학이 있음 ** <br>\n",
    "** 핵심 코드가 늘어나는 것을 피하기 위해 분리되어 있음 **<br>\n",
    "** 원하는 기능이 표준 모듈에 있는지 먼저 확인하는 것이 좋음 **"
   ]
  },
  {
   "cell_type": "markdown",
   "metadata": {},
   "source": [
    "## 누락된 키 처리하기: setdefault(), defaultdict()\n",
    "** 기본값을 반환하는 딕셔너리의 get() 함수를 사용하면**<br>\n",
    "**존재하지 않는 키로 딕셔너리에 접근하려고 할 때 생기는 예외를 피할 수 있다. **"
   ]
  },
  {
   "cell_type": "code",
   "execution_count": 1,
   "metadata": {
    "collapsed": false
   },
   "outputs": [
    {
     "name": "stdout",
     "output_type": "stream",
     "text": [
      "{'Hydrogen': 1, 'Helium': 2}\n"
     ]
    }
   ],
   "source": [
    "periodic_table = {'Hydrogen': 1, 'Helium': 2}\n",
    "\n",
    "print(periodic_table)"
   ]
  },
  {
   "cell_type": "markdown",
   "metadata": {},
   "source": [
    "** 딕셔너리에 키가 없는 경우 새 값이 사용된다. **"
   ]
  },
  {
   "cell_type": "code",
   "execution_count": 3,
   "metadata": {
    "collapsed": false
   },
   "outputs": [
    {
     "name": "stdout",
     "output_type": "stream",
     "text": [
      "12\n"
     ]
    },
    {
     "data": {
      "text/plain": [
       "{'Carbon': 12, 'Helium': 2, 'Hydrogen': 1}"
      ]
     },
     "execution_count": 3,
     "metadata": {},
     "output_type": "execute_result"
    }
   ],
   "source": [
    "carbon = periodic_table.setdefault('Carbon', 12)\n",
    "print(carbon)\n",
    "periodic_table"
   ]
  },
  {
   "cell_type": "markdown",
   "metadata": {},
   "source": [
    "** 존재하는 키에 다른 기본값을 할당하려 하면 키에 대한 원래 값이 반환되고 아무것도 바뀌지 않는다. **"
   ]
  },
  {
   "cell_type": "code",
   "execution_count": 4,
   "metadata": {
    "collapsed": false
   },
   "outputs": [
    {
     "data": {
      "text/plain": [
       "{'Carbon': 12, 'Helium': 2, 'Hydrogen': 1}"
      ]
     },
     "execution_count": 4,
     "metadata": {},
     "output_type": "execute_result"
    }
   ],
   "source": [
    "helium = periodic_table.setdefault('Helium', 947)\n",
    "helium\n",
    "periodic_table"
   ]
  },
  {
   "cell_type": "markdown",
   "metadata": {},
   "source": [
    "** defaultdict() 함수는 딕셔너리를 생성할 때 모든 새 키에 대한 기본값을 먼저 지정한다. **<br>\n",
    "** 인자로 함수를 사용**"
   ]
  },
  {
   "cell_type": "code",
   "execution_count": 5,
   "metadata": {
    "collapsed": false
   },
   "outputs": [
    {
     "name": "stdout",
     "output_type": "stream",
     "text": [
      "0\n",
      "defaultdict(<class 'int'>, {'Hydrogen': 1, 'Lead': 0})\n"
     ]
    }
   ],
   "source": [
    "# int() 함수를 호출하고 정수 0을 반환하는 함수 int를 전달\n",
    "\n",
    "from collections import defaultdict\n",
    "\n",
    "periodic_table = defaultdict(int)\n",
    "# 기본값이 0이 되었다.\n",
    "\n",
    "periodic_table['Hydrogen'] = 1\n",
    "print(periodic_table['Lead'])\n",
    "print(periodic_table)"
   ]
  },
  {
   "cell_type": "markdown",
   "metadata": {},
   "source": [
    "** defaultdict()의 인자는 값을 누락된 키에 할당하여 반환하는 함수 **<br> "
   ]
  },
  {
   "cell_type": "code",
   "execution_count": 6,
   "metadata": {
    "collapsed": false
   },
   "outputs": [
    {
     "name": "stdout",
     "output_type": "stream",
     "text": [
      "Abominable Snowman\n",
      "Basilisk\n",
      "Huh?\n"
     ]
    }
   ],
   "source": [
    "from collections import defaultdict\n",
    "\n",
    "def no_idea():\n",
    "    return 'Huh?'\n",
    "\n",
    "bestiary = defaultdict(no_idea)\n",
    "bestiary['A'] = 'Abominable Snowman'\n",
    "bestiary['B'] = 'Basilisk'\n",
    "\n",
    "print(bestiary['A'])\n",
    "print(bestiary['B'])\n",
    "print(bestiary['C'])"
   ]
  },
  {
   "cell_type": "markdown",
   "metadata": {},
   "source": [
    "** 빈 기본값을 반환하기 위해 int() 함수는 정수 0, list() 함수는 빈 리스트([]), dict() 함수는 빈 딕셔너리 반환 **<br>\n",
    "** 지정하지 않으면 초깃값이 None으로 설정**<p>\n",
    "** lambda를 사용하여 기본값을 만드는 함수 정의 가능 **"
   ]
  },
  {
   "cell_type": "code",
   "execution_count": 7,
   "metadata": {
    "collapsed": false
   },
   "outputs": [
    {
     "data": {
      "text/plain": [
       "'Huh?'"
      ]
     },
     "execution_count": 7,
     "metadata": {},
     "output_type": "execute_result"
    }
   ],
   "source": [
    "bestiary = defaultdict(lambda: 'Huh?')\n",
    "bestiary['E']"
   ]
  },
  {
   "cell_type": "markdown",
   "metadata": {},
   "source": [
    "** 카운터를 만들기 위해 아래와 같이 int 함수를 사용 가능 **"
   ]
  },
  {
   "cell_type": "code",
   "execution_count": 10,
   "metadata": {
    "collapsed": false
   },
   "outputs": [
    {
     "name": "stdout",
     "output_type": "stream",
     "text": [
      "spam 3\n",
      "eggs 1\n"
     ]
    }
   ],
   "source": [
    "from collections import defaultdict\n",
    "\n",
    "food_counter = defaultdict(int)\n",
    "for food in ['spam', 'spam', 'eggs', 'spam']:\n",
    "    food_counter[food] += 1\n",
    "    \n",
    "for food, count in food_counter.items():\n",
    "    print(food, count)"
   ]
  },
  {
   "cell_type": "markdown",
   "metadata": {},
   "source": [
    "## 항목 세기: counter()"
   ]
  },
  {
   "cell_type": "markdown",
   "metadata": {},
   "source": [
    "** Counter() **"
   ]
  },
  {
   "cell_type": "code",
   "execution_count": 11,
   "metadata": {
    "collapsed": false
   },
   "outputs": [
    {
     "name": "stdout",
     "output_type": "stream",
     "text": [
      "Counter({'spam': 3, 'eggs': 1})\n"
     ]
    }
   ],
   "source": [
    "from collections import Counter\n",
    "\n",
    "breakfast = ['spam', 'spam', 'eggs', 'spam']\n",
    "breakfast_counter = Counter(breakfast)\n",
    "print(breakfast_counter)"
   ]
  },
  {
   "cell_type": "markdown",
   "metadata": {},
   "source": [
    "** most_common() **"
   ]
  },
  {
   "cell_type": "code",
   "execution_count": 12,
   "metadata": {
    "collapsed": false
   },
   "outputs": [
    {
     "name": "stdout",
     "output_type": "stream",
     "text": [
      "[('spam', 3), ('eggs', 1)]\n",
      "[('spam', 3)]\n"
     ]
    }
   ],
   "source": [
    "print(breakfast_counter.most_common())\n",
    "print(breakfast_counter.most_common(1))"
   ]
  },
  {
   "cell_type": "markdown",
   "metadata": {},
   "source": [
    "** 카운터 결합 **"
   ]
  },
  {
   "cell_type": "code",
   "execution_count": 18,
   "metadata": {
    "collapsed": false
   },
   "outputs": [
    {
     "name": "stdout",
     "output_type": "stream",
     "text": [
      "breakfast_counter:  Counter({'spam': 3, 'eggs': 1})\n",
      "lunch_counter:  Counter({'eggs': 2, 'bacon': 1})\n",
      "breakfast_counter + lunch_counter:  Counter({'spam': 3, 'eggs': 3, 'bacon': 1})\n"
     ]
    }
   ],
   "source": [
    "breakfast_counter\n",
    "print('breakfast_counter: ', Counter({'spam':3, 'eggs': 1}))\n",
    "\n",
    "lunch = ['eggs', 'eggs', 'bacon']\n",
    "lunch_counter = Counter(lunch)\n",
    "print('lunch_counter: ', lunch_counter)\n",
    "\n",
    "print('breakfast_counter + lunch_counter: ', breakfast_counter + lunch_counter)"
   ]
  },
  {
   "cell_type": "markdown",
   "metadata": {},
   "source": [
    "** 카운터 빼기 **"
   ]
  },
  {
   "cell_type": "code",
   "execution_count": 20,
   "metadata": {
    "collapsed": false
   },
   "outputs": [
    {
     "name": "stdout",
     "output_type": "stream",
     "text": [
      "breakfast_counter - lunch_counter:  Counter({'spam': 3})\n",
      "lunch_counter - breakfast_counter:  Counter({'eggs': 1, 'bacon': 1})\n"
     ]
    }
   ],
   "source": [
    "print(\"breakfast_counter - lunch_counter: \", breakfast_counter - lunch_counter)\n",
    "print(\"lunch_counter - breakfast_counter: \", lunch_counter - breakfast_counter)"
   ]
  },
  {
   "cell_type": "markdown",
   "metadata": {},
   "source": [
    "** 인터섹션 연산자 &을 사용해서 빼기 **"
   ]
  },
  {
   "cell_type": "code",
   "execution_count": 22,
   "metadata": {
    "collapsed": false
   },
   "outputs": [
    {
     "name": "stdout",
     "output_type": "stream",
     "text": [
      "breakfast_counter & lunch_counter:  Counter({'eggs': 1})\n",
      "lunch_counter & breakfast_counter:  Counter({'eggs': 1})\n"
     ]
    }
   ],
   "source": [
    "print(\"breakfast_counter & lunch_counter: \", breakfast_counter & lunch_counter)\n",
    "print(\"lunch_counter & breakfast_counter: \", lunch_counter & breakfast_counter)"
   ]
  },
  {
   "cell_type": "markdown",
   "metadata": {},
   "source": [
    "** |를 이용해서 모든 항목 얻기** "
   ]
  },
  {
   "cell_type": "code",
   "execution_count": 24,
   "metadata": {
    "collapsed": false
   },
   "outputs": [
    {
     "name": "stdout",
     "output_type": "stream",
     "text": [
      "breakfast_counter | lunch_counter:  Counter({'spam': 3, 'eggs': 2, 'bacon': 1})\n"
     ]
    }
   ],
   "source": [
    "print(\"breakfast_counter | lunch_counter: \", breakfast_counter | lunch_counter)"
   ]
  },
  {
   "cell_type": "markdown",
   "metadata": {},
   "source": [
    "## 키 정렬하기: OrderedDict()\n",
    "** 딕셔너리의 키 순서는 예측할 수 없다.**"
   ]
  },
  {
   "cell_type": "code",
   "execution_count": 28,
   "metadata": {
    "collapsed": false
   },
   "outputs": [
    {
     "name": "stdout",
     "output_type": "stream",
     "text": [
      "Moe\n",
      "Larry\n",
      "Curly\n"
     ]
    }
   ],
   "source": [
    "quotes = {\n",
    "    'Moe': 'A wise guy, huh?',\n",
    "    'Larry': 'Ow!',\n",
    "    'Curly': 'Nyuk Nyuk!',\n",
    "}\n",
    "\n",
    "for stooge in quotes:\n",
    "    print(stooge)"
   ]
  },
  {
   "cell_type": "markdown",
   "metadata": {},
   "source": [
    "** _OrderedDict()_ 함수는 키의 추가 순서를 기억하고, 이터레이터로부터 순서대로 키값을 반환 **"
   ]
  },
  {
   "cell_type": "code",
   "execution_count": 29,
   "metadata": {
    "collapsed": false
   },
   "outputs": [
    {
     "name": "stdout",
     "output_type": "stream",
     "text": [
      "Moe\n",
      "Larry\n",
      "Curly\n"
     ]
    }
   ],
   "source": [
    "from collections import OrderedDict\n",
    "\n",
    "quotes = OrderedDict([\n",
    "    ('Moe', 'A wise guy, huh?'),\n",
    "    ('Larry', 'Ow!'),\n",
    "    ('Curly', 'Nyuk nyuk!'),\n",
    "])\n",
    "\n",
    "for stooge in quotes:\n",
    "    print(stooge)"
   ]
  },
  {
   "cell_type": "markdown",
   "metadata": {},
   "source": [
    "## 스택 + 큐 == 데크\n",
    "** 데크(deque)는 스택과 큐의 기능을 모두 가짐**"
   ]
  },
  {
   "cell_type": "code",
   "execution_count": 32,
   "metadata": {
    "collapsed": false
   },
   "outputs": [
    {
     "name": "stdout",
     "output_type": "stream",
     "text": [
      "True\n",
      "True\n",
      "True\n",
      "True\n",
      "True\n",
      "False\n"
     ]
    }
   ],
   "source": [
    "def palindrome(word):\n",
    "    from collections import deque\n",
    "    dq = deque(word)\n",
    "    while len(dq) > 1:\n",
    "        if dq.popleft() != dq.pop():\n",
    "            return False\n",
    "    return True\n",
    "\n",
    "print(palindrome('a'))\n",
    "print(palindrome('racecar'))\n",
    "print(palindrome(''))\n",
    "print(palindrome('radar'))\n",
    "print(palindrome('a'))\n",
    "print(palindrome('halibut'))"
   ]
  },
  {
   "cell_type": "markdown",
   "metadata": {},
   "source": [
    "## 코드 구조 순회하기: itertools"
   ]
  },
  {
   "cell_type": "markdown",
   "metadata": {},
   "source": [
    "** _chain()_ 함수는 순회 가능한 인자들을 하나씩 반환 **"
   ]
  },
  {
   "cell_type": "code",
   "execution_count": 33,
   "metadata": {
    "collapsed": false
   },
   "outputs": [
    {
     "name": "stdout",
     "output_type": "stream",
     "text": [
      "1\n",
      "2\n",
      "a\n",
      "b\n"
     ]
    }
   ],
   "source": [
    "import itertools\n",
    "for item in itertools.chain([1,2], ['a', 'b']):\n",
    "    print(item)"
   ]
  },
  {
   "cell_type": "markdown",
   "metadata": {},
   "source": [
    "** _cycle()_ 함수는 인자를 순환하는 무한 이터레이터 **"
   ]
  },
  {
   "cell_type": "code",
   "execution_count": 39,
   "metadata": {
    "collapsed": false
   },
   "outputs": [],
   "source": [
    "# import itertools\n",
    "# for item in itertools.cycle([1, 2]):\n",
    "#     print(item)"
   ]
  },
  {
   "cell_type": "markdown",
   "metadata": {},
   "source": [
    "** _accumulate()_ 함수는 축적된 값을 계산 **<br>\n",
    "** 기본적으로 합계를 계산 **"
   ]
  },
  {
   "cell_type": "code",
   "execution_count": 40,
   "metadata": {
    "collapsed": false
   },
   "outputs": [
    {
     "name": "stdout",
     "output_type": "stream",
     "text": [
      "1\n",
      "3\n",
      "6\n",
      "10\n"
     ]
    }
   ],
   "source": [
    "import itertools\n",
    "for item in itertools.accumulate([1, 2, 3, 4]):\n",
    "    print(item)"
   ]
  },
  {
   "cell_type": "markdown",
   "metadata": {},
   "source": [
    "** 두 번째 인자로 함수를 전달하여, 합계를 구하는 대신 이 함수를 사용할 수 있다. **"
   ]
  },
  {
   "cell_type": "code",
   "execution_count": 41,
   "metadata": {
    "collapsed": false
   },
   "outputs": [
    {
     "name": "stdout",
     "output_type": "stream",
     "text": [
      "1\n",
      "2\n",
      "6\n",
      "24\n"
     ]
    }
   ],
   "source": [
    "import itertools\n",
    "def multiply(a, b):\n",
    "    return a * b\n",
    "\n",
    "for item in itertools.accumulate([1,2,3,4], multiply):\n",
    "    print(item)"
   ]
  },
  {
   "cell_type": "markdown",
   "metadata": {},
   "source": [
    "** _itertools 모듈은 시간을 단축할 수 있는 조합(combination)과 순열(permutation)에 더 많은 함수를 제공_ **"
   ]
  },
  {
   "cell_type": "markdown",
   "metadata": {},
   "source": [
    "## 깔끔하게 출력하기: pprint()"
   ]
  },
  {
   "cell_type": "code",
   "execution_count": 42,
   "metadata": {
    "collapsed": false
   },
   "outputs": [
    {
     "name": "stdout",
     "output_type": "stream",
     "text": [
      "OrderedDict([('Moe', 'A wise guy, huh?'), ('Larry', 'Ow!'), ('Curly', 'Nyuk nyuk!')])\n",
      "OrderedDict([('Moe', 'A wise guy, huh?'),\n",
      "             ('Larry', 'Ow!'),\n",
      "             ('Curly', 'Nyuk nyuk!')])\n"
     ]
    }
   ],
   "source": [
    "from pprint import pprint\n",
    "\n",
    "quotes = OrderedDict([\n",
    "    ('Moe', 'A wise guy, huh?'),\n",
    "    ('Larry', 'Ow!'),\n",
    "    ('Curly', 'Nyuk nyuk!'),\n",
    "])\n",
    "\n",
    "print(quotes)\n",
    "\n",
    "pprint(quotes)"
   ]
  }
 ],
 "metadata": {
  "kernelspec": {
   "display_name": "Python 3",
   "language": "python",
   "name": "python3"
  },
  "language_info": {
   "codemirror_mode": {
    "name": "ipython",
    "version": 3
   },
   "file_extension": ".py",
   "mimetype": "text/x-python",
   "name": "python",
   "nbconvert_exporter": "python",
   "pygments_lexer": "ipython3",
   "version": "3.6.0"
  }
 },
 "nbformat": 4,
 "nbformat_minor": 2
}
