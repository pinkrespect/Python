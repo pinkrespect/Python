{
 "cells": [
  {
   "cell_type": "markdown",
   "metadata": {},
   "source": [
    "# asyncio\n",
    "** from Fluent Python **"
   ]
  },
  {
   "cell_type": "markdown",
   "metadata": {},
   "source": [
    "- 간단한 스레드 프로그램과 그에 준하는 asyncio 버전을 비교하면서, 스레드와 비동기 작업의 관계를 보여준다.\n",
    "- asyncio.Future 클래스와 concurrent.futures.Future 클래스의 차이점을 설명한다.\n",
    "- 17장에서 구현한 국기 내려받기 예제의 비동기 버전을 구현한다.\n",
    "- 스레드나 프로세스를 사용하지 않고 비동기 프로그래밍이 네트워크 프로그램에서 높은 동시성을 관리하는 방법을 설명한다.\n",
    "- 코루틴으로 비동기 프로그래밍을 하기 위한 콜백을 개선시키는 방법을 설명한다.\n",
    "- 블로킹 연산을 스레드 풀에 덜어줌으로써 이벤트 루프를 블로킹하지 않는 방법을 알아본다.\n",
    "- asyncio 서버를 작성하고, 웹 애플리케이션의 높은 동시성을 다시 생각해본다.\n",
    "- asyncio가 파이썬 생태계에 커다란 영향을 줄 수밖에 없는 이유를 설명한다."
   ]
  },
  {
   "cell_type": "markdown",
   "metadata": {},
   "source": [
    "## 스레드와 코루틴 비교"
   ]
  },
  {
   "cell_type": "markdown",
   "metadata": {},
   "source": [
    "** thread로 구현 **"
   ]
  },
  {
   "cell_type": "code",
   "execution_count": 1,
   "metadata": {
    "collapsed": true
   },
   "outputs": [],
   "source": [
    "import threading\n",
    "import itertools\n",
    "import time\n",
    "import sys\n",
    "\n",
    "class Signal:\n",
    "    go = True\n",
    "    \n",
    "def spin(msg, signal):\n",
    "    write, flush = sys.stdout.write, sys.stdout.flush\n",
    "    for char in itertools.cycle('|/-\\\\'):\n",
    "        status = char + ' ' + msg\n",
    "        write(status)\n",
    "        flush()\n",
    "        write('\\x08' * len(status))\n",
    "        time.sleep(.1)\n",
    "        if not signal.go:\n",
    "            break\n",
    "    write(' ' * len(status) + '\\x08' * len(status))\n",
    "    \n",
    "def slow_function():\n",
    "    time.sleep(3)\n",
    "    return 42\n",
    "\n",
    "def supervisor():\n",
    "    signal = Signal()\n",
    "    spinner = threading.Thread(target=spin, args=('thinking!', signal))\n",
    "    print('spinner object: ', spinner)\n",
    "    spinner.start()\n",
    "    result = slow_function()\n",
    "    signal.go = False\n",
    "    spinner.join()\n",
    "    return result\n",
    "\n",
    "def main():\n",
    "    result = supervisor()\n",
    "    print('Answer: ', result)\n",
    "    if __name__ == \"__main__\":\n",
    "        main()"
   ]
  },
  {
   "cell_type": "markdown",
   "metadata": {},
   "source": [
    "**asyncio로 구현**"
   ]
  },
  {
   "cell_type": "code",
   "execution_count": null,
   "metadata": {
    "collapsed": true
   },
   "outputs": [],
   "source": []
  }
 ],
 "metadata": {
  "kernelspec": {
   "display_name": "Python 3",
   "language": "python",
   "name": "python3"
  },
  "language_info": {
   "codemirror_mode": {
    "name": "ipython",
    "version": 3
   },
   "file_extension": ".py",
   "mimetype": "text/x-python",
   "name": "python",
   "nbconvert_exporter": "python",
   "pygments_lexer": "ipython3",
   "version": "3.6.0"
  }
 },
 "nbformat": 4,
 "nbformat_minor": 2
}
