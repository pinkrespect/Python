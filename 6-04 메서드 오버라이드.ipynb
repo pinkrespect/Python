{
 "cells": [
  {
   "cell_type": "markdown",
   "metadata": {},
   "source": [
    "## Method Override"
   ]
  },
  {
   "cell_type": "code",
   "execution_count": 3,
   "metadata": {
    "collapsed": false
   },
   "outputs": [
    {
     "name": "stdout",
     "output_type": "stream",
     "text": [
      "I'm a Car!\n",
      "I'm a Yugo! Much like a Car, but more Yugo-ish!\n"
     ]
    }
   ],
   "source": [
    "class Car():\n",
    "    def exclaim(self):\n",
    "        print(\"I'm a Car!\")\n",
    "        \n",
    "class Yugo(Car):\n",
    "    def exclaim(self):\n",
    "        print(\"I'm a Yugo! Much like a Car, but more Yugo-ish!\")\n",
    "        \n",
    "give_me_a_car = Car()\n",
    "give_me_a_yugo = Yugo()\n",
    "\n",
    "give_me_a_car.exclaim()\n",
    "give_me_a_yugo.exclaim()"
   ]
  },
  {
   "cell_type": "markdown",
   "metadata": {},
   "source": [
    "** __init__() 메서드를 포함한 모든 메서드를 오버라이드 가능**<br>"
   ]
  },
  {
   "cell_type": "code",
   "execution_count": 2,
   "metadata": {
    "collapsed": false
   },
   "outputs": [
    {
     "name": "stdout",
     "output_type": "stream",
     "text": [
      "<__main__.Person object at 0x0000021B1D686828> Fudd\n",
      "<__main__.MDPerson object at 0x0000021B1D686A20> Doctor Fudd\n",
      "<__main__.JDPerson object at 0x0000021B1D6867B8> Fudd, Esquire\n"
     ]
    }
   ],
   "source": [
    "class Person():\n",
    "    def __init__(self, name):\n",
    "        self.name = name\n",
    "\n",
    "class MDPerson(Person):\n",
    "    def __init__(self, name):\n",
    "        self.name = \"Doctor \" + name\n",
    "        \n",
    "class JDPerson(Person):\n",
    "    def __init__(self, name):\n",
    "        self.name = name + \", Esquire\"\n",
    "        \n",
    "person = Person('Fudd')\n",
    "doctor = MDPerson('Fudd')\n",
    "lawyer = JDPerson('Fudd')\n",
    "\n",
    "print(person, person.name)\n",
    "print(doctor, doctor.name)\n",
    "print(lawyer, lawyer.name)"
   ]
  }
 ],
 "metadata": {
  "kernelspec": {
   "display_name": "Python 3",
   "language": "python",
   "name": "python3"
  },
  "language_info": {
   "codemirror_mode": {
    "name": "ipython",
    "version": 3
   },
   "file_extension": ".py",
   "mimetype": "text/x-python",
   "name": "python",
   "nbconvert_exporter": "python",
   "pygments_lexer": "ipython3",
   "version": "3.6.0"
  }
 },
 "nbformat": 4,
 "nbformat_minor": 2
}
